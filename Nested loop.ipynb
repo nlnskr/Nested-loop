{
 "cells": [
  {
   "cell_type": "code",
   "execution_count": 10,
   "id": "d772a88e",
   "metadata": {},
   "outputs": [
    {
     "name": "stdout",
     "output_type": "stream",
     "text": [
      "table of 1 :-\n",
      "1 2 3 4 5 6 7 8 9 10 \n",
      "table of 2 :-\n",
      "2 4 6 8 10 12 14 16 18 20 \n",
      "table of 3 :-\n",
      "3 6 9 12 15 18 21 24 27 30 \n",
      "table of 4 :-\n",
      "4 8 12 16 20 24 28 32 36 40 \n",
      "table of 5 :-\n",
      "5 10 15 20 25 30 35 40 45 50 \n",
      "table of 6 :-\n",
      "6 12 18 24 30 36 42 48 54 60 \n",
      "table of 7 :-\n",
      "7 14 21 28 35 42 49 56 63 70 \n",
      "table of 8 :-\n",
      "8 16 24 32 40 48 56 64 72 80 \n",
      "table of 9 :-\n",
      "9 18 27 36 45 54 63 72 81 90 \n",
      "table of 10 :-\n",
      "10 20 30 40 50 60 70 80 90 100 \n"
     ]
    }
   ],
   "source": [
    "#print the table of 2-10:\n",
    "for i in range(1,11):\n",
    "    print(\"table of\",i,\":-\")\n",
    "    for j in range(1,11):\n",
    "        print(i*j,end=' ')\n",
    "    print()"
   ]
  },
  {
   "cell_type": "code",
   "execution_count": 6,
   "id": "ecefed31",
   "metadata": {},
   "outputs": [
    {
     "name": "stdout",
     "output_type": "stream",
     "text": [
      "enter the no : 153\n",
      "1 = 1\n",
      "5 = 125\n",
      "3 = 27\n",
      "    153 is Armstrong No.\n"
     ]
    }
   ],
   "source": [
    "#prog to find armstrong no:-\n",
    "a=int(input(\"enter the no : \"))\n",
    "sum=0\n",
    "b=len(str(a))\n",
    "for i in str(a):\n",
    "    i=int(i)\n",
    "    x=i**b\n",
    "    print(i,\"=\",x)\n",
    "    sum=sum+x\n",
    "if (sum==a):\n",
    "    print(\"   \",a,\"is Armstrong No.\")\n",
    "else:\n",
    "    print(\"   \",a,\"is not Armstrong No.\")"
   ]
  },
  {
   "cell_type": "code",
   "execution_count": 10,
   "id": "484faadb",
   "metadata": {},
   "outputs": [
    {
     "name": "stdout",
     "output_type": "stream",
     "text": [
      "1\n",
      "153\n",
      "370\n",
      "371\n",
      "407\n"
     ]
    }
   ],
   "source": [
    "#prog to print armstrong no from 1 to 1000....\n",
    "for i in range(1,1000):\n",
    "    sum=0\n",
    "    for j in str(i):\n",
    "        sum+=int(j)**3\n",
    "    if(sum==i):\n",
    "        print(i)"
   ]
  },
  {
   "cell_type": "code",
   "execution_count": null,
   "id": "65d7a81e",
   "metadata": {},
   "outputs": [],
   "source": [
    "#print armstrong no from any to any no.....\n",
    "a=int(input(\"Enter no  : \"))\n",
    "b=int(input(\"Enter no  : \"))\n",
    "for i in range(a,b+1,1):\n",
    "    sum=0\n",
    "    p=len(str(i))\n",
    "    for j in str(i):\n",
    "        sum+=int(j)**p\n",
    "    if(sum==i):\n",
    "        print(i)"
   ]
  },
  {
   "cell_type": "code",
   "execution_count": null,
   "id": "c854deca",
   "metadata": {},
   "outputs": [],
   "source": []
  },
  {
   "cell_type": "code",
   "execution_count": null,
   "id": "bbdb2b05",
   "metadata": {},
   "outputs": [],
   "source": [
    "for i in\"153\":\n",
    "    print(i)"
   ]
  },
  {
   "cell_type": "code",
   "execution_count": 17,
   "id": "7b0850f5",
   "metadata": {},
   "outputs": [
    {
     "name": "stdout",
     "output_type": "stream",
     "text": [
      "enter the no : 171\n",
      "1 = 1\n",
      "7 = 343\n",
      "1 = 1\n",
      "    171 is not Armstrong No.\n"
     ]
    }
   ],
   "source": [
    "#short prog for armstrong no.\n",
    "a=int(input(\"enter the no : \"))\n",
    "sum=0\n",
    "for i in str(a):\n",
    "    x=int(i)**(len(str(a)))\n",
    "    print(i,\"=\",x)\n",
    "    sum=sum+x\n",
    "if (sum==a):\n",
    "    print(\"   \",a,\"is Armstrong No.\")\n",
    "else:\n",
    "    print(\"   \",a,\"is not Armstrong No.\")"
   ]
  },
  {
   "cell_type": "code",
   "execution_count": 15,
   "id": "d5dd612c",
   "metadata": {},
   "outputs": [
    {
     "name": "stdout",
     "output_type": "stream",
     "text": [
      "Enter any no. : 101\n",
      "prime no.\n"
     ]
    }
   ],
   "source": [
    "#prog for prime no....\n",
    "a=int(input(\"Enter any no. : \"))\n",
    "if (a<2):\n",
    "    print(\"not prime no.\")\n",
    "else:\n",
    "    for i in range(2,a):\n",
    "        if (a%i==0):\n",
    "            print(\"not prime no.\")\n",
    "            break      \n",
    "        else:\n",
    "            print(\"prime no.\")\n",
    "            break"
   ]
  },
  {
   "cell_type": "code",
   "execution_count": 20,
   "id": "6cf4a8f0",
   "metadata": {},
   "outputs": [
    {
     "name": "stdout",
     "output_type": "stream",
     "text": [
      "enter any no. : 28\n",
      "1\n",
      "2\n",
      "4\n",
      "7\n",
      "14\n",
      "\n",
      "28\n",
      "perfect no.\n"
     ]
    }
   ],
   "source": [
    "#prog to check pefect no.\n",
    "a=int(input(\"enter any no. : \"))\n",
    "sum=0\n",
    "for i in range(1,a):\n",
    "    if (a%i==0):\n",
    "        print(i)\n",
    "        sum=sum+i\n",
    "print()\n",
    "print(sum)\n",
    "if sum==a:\n",
    "    print(\"perfect no.\")\n",
    "else:\n",
    "    print(\"not perfect no.\")"
   ]
  },
  {
   "cell_type": "code",
   "execution_count": 54,
   "id": "8d4a3458",
   "metadata": {},
   "outputs": [
    {
     "name": "stdout",
     "output_type": "stream",
     "text": [
      "enter any number : 144\n",
      "1 = 1\n",
      "4 = 24\n",
      "4 = 24\n",
      "    144 is not strong no.\n"
     ]
    }
   ],
   "source": [
    "#prog to check strong no....\n",
    "num=int(input(\"enter any number : \"))\n",
    "a=1\n",
    "sum=0\n",
    "for i in str(num):\n",
    "    i=int(i)\n",
    "    for j in range(i,0,-1):\n",
    "        a=a*j\n",
    "    print(i,\"=\",a)\n",
    "    sum=sum+a\n",
    "    a=1\n",
    "if sum==num:\n",
    "    print(\"   \" ,num,\"is strong no.\")\n",
    "else:\n",
    "    print(\"   \",num,\"is not strong no.\")"
   ]
  },
  {
   "cell_type": "code",
   "execution_count": 41,
   "id": "2d720767",
   "metadata": {},
   "outputs": [
    {
     "name": "stdout",
     "output_type": "stream",
     "text": [
      "1\n",
      "5\n",
      "3\n"
     ]
    }
   ],
   "source": [
    "for i in str(153):\n",
    "    print(i)"
   ]
  },
  {
   "cell_type": "code",
   "execution_count": 21,
   "id": "df70798a",
   "metadata": {},
   "outputs": [
    {
     "name": "stdout",
     "output_type": "stream",
     "text": [
      "enter no. from :1\n",
      "enter no to : 1000\n",
      "1\n"
     ]
    }
   ],
   "source": [
    "#print armstrong no. from any to any no.....\n",
    "a=int(input('enter no. from :'))\n",
    "b=int(input(\"enter no to : \"))\n",
    "sum=0\n",
    "for i in range(a,b+1):\n",
    "    c=len(str(i))\n",
    "    for j in str(i):\n",
    "        j=int(j)\n",
    "        x=j**c\n",
    "        sum=sum+x\n",
    "    if (sum==i):\n",
    "        print(i)"
   ]
  },
  {
   "cell_type": "code",
   "execution_count": 12,
   "id": "e50fb3c8",
   "metadata": {},
   "outputs": [],
   "source": [
    "a='NalinSakarkar'"
   ]
  },
  {
   "cell_type": "code",
   "execution_count": 13,
   "id": "0763c12e",
   "metadata": {},
   "outputs": [
    {
     "data": {
      "text/plain": [
       "'NalinSakarkar'"
      ]
     },
     "execution_count": 13,
     "metadata": {},
     "output_type": "execute_result"
    }
   ],
   "source": [
    "a"
   ]
  },
  {
   "cell_type": "code",
   "execution_count": 14,
   "id": "f7a75e1e",
   "metadata": {},
   "outputs": [
    {
     "data": {
      "text/plain": [
       "'inSakar'"
      ]
     },
     "execution_count": 14,
     "metadata": {},
     "output_type": "execute_result"
    }
   ],
   "source": [
    "a[3:10]"
   ]
  },
  {
   "cell_type": "code",
   "execution_count": null,
   "id": "c398edbf",
   "metadata": {},
   "outputs": [],
   "source": []
  }
 ],
 "metadata": {
  "kernelspec": {
   "display_name": "Python 3",
   "language": "python",
   "name": "python3"
  },
  "language_info": {
   "codemirror_mode": {
    "name": "ipython",
    "version": 3
   },
   "file_extension": ".py",
   "mimetype": "text/x-python",
   "name": "python",
   "nbconvert_exporter": "python",
   "pygments_lexer": "ipython3",
   "version": "3.8.8"
  }
 },
 "nbformat": 4,
 "nbformat_minor": 5
}
